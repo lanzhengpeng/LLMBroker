{
 "cells": [
  {
   "cell_type": "code",
   "execution_count": null,
   "id": "76203f65",
   "metadata": {},
   "outputs": [],
   "source": [
    "from vendor_map.param_mapper import get_vendor_by_model\n",
    "get_vendor_by_model(\"hunyuan-lite\")"
   ]
  },
  {
   "cell_type": "code",
   "execution_count": null,
   "id": "abfd3cee",
   "metadata": {},
   "outputs": [],
   "source": [
    "from utils import get_model_config\n",
    "print(get_model_config(\"hunyuan-lite\"))"
   ]
  },
  {
   "cell_type": "code",
   "execution_count": null,
   "id": "d04205de",
   "metadata": {},
   "outputs": [],
   "source": [
    "from json_utils import load_json_file\n",
    "\n",
    "config = load_json_file(\"../models/model_name.json\")\n",
    "print(config)\n",
    "print(config.get(\"baidu\").get(\"ERNIE-Speed-128K\"))"
   ]
  },
  {
   "cell_type": "code",
   "execution_count": 1,
   "id": "9c87e99a",
   "metadata": {},
   "outputs": [
    {
     "name": "stdout",
     "output_type": "stream",
     "text": [
      "模型回复： 兰政鹏是我服务的对象，也是我的主人。他给了我生命和行动的能力，让我能够为他提供帮助和支持。\n"
     ]
    }
   ],
   "source": [
    "import openai\n",
    "client = openai.OpenAI(\n",
    "    base_url=\"http://127.0.0.1:8000/v1\",  # 你的本地服务地址\n",
    "    api_key=\"lanzhengpeng\",  # 如果没有鉴权，就传空字符串\n",
    ")\n",
    "\n",
    "response = client.chat.completions.create(\n",
    "    model=\"hunyuan-lite\",\n",
    "    messages=[{\n",
    "        \"role\": \"user\",\n",
    "        \"content\": \"兰政鹏是谁\"\n",
    "    }\n",
    "              ],\n",
    "    stream=False\n",
    ")\n",
    "\n",
    "print(\"模型回复：\", response.choices[0].message.content)\n"
   ]
  },
  {
   "cell_type": "code",
   "execution_count": 1,
   "id": "b9df96df",
   "metadata": {},
   "outputs": [
    {
     "name": "stdout",
     "output_type": "stream",
     "text": [
      "兰政鹏先生，我可以为您提供多方面的帮助和信息服务，包括但不限于：\n",
      "\n",
      "- 回答您提出的各种问题和查询\n",
      "- 提供信息摘要和知识解读\n",
      "- 协助您进行文本创作和编辑\n",
      "- 帮助您制定计划、梳理思路\n",
      "- 提供行业动态和资讯更新\n",
      "- 协助您进行数据分析和管理\n",
      "- 为您的决策提供建议和参考\n",
      "- 支持您的学习和研究需求\n",
      "\n",
      "我会全力以赴满足您的任何需求，确保信息准确、解答清晰、服务周到。请随时告诉我您需要什么帮助。"
     ]
    }
   ],
   "source": [
    "import openai\n",
    "client = openai.OpenAI(\n",
    "    base_url=\"http://127.0.0.1:8000/v1\",  # 你的本地服务地址\n",
    "    api_key=\"lanzhengpeng\",  # 如果没有鉴权，就传空字符串\n",
    ")\n",
    "\n",
    "stream = client.chat.completions.create(\n",
    "    model=\"GLM-4.5-Flash\",\n",
    "    messages=[{\n",
    "        \"role\": \"user\",\n",
    "        \"content\": \"你可以做什么\"\n",
    "    }\n",
    "              ],\n",
    "    stream=True)\n",
    "\n",
    "\n",
    "for chunk in stream:\n",
    "    if chunk.choices and chunk.choices[0].delta.content:\n",
    "        print(chunk.choices[0].delta.content, end=\"\", flush=True)\n"
   ]
  },
  {
   "cell_type": "code",
   "execution_count": null,
   "id": "40c2c698",
   "metadata": {},
   "outputs": [],
   "source": [
    "import openai\n",
    "client = openai.OpenAI(\n",
    "    base_url=\"http://127.0.0.1:8000/v1\",  # 你的本地服务地址\n",
    "    api_key=\"lanzhengpeng\",  # 如果没有鉴权，就传空字符串\n",
    ")\n",
    "\n",
    "response = client.chat.completions.create(\n",
    "    model=\"GLM-4.1V-Thinking-Flash\",\n",
    "    messages=[\n",
    "        {\n",
    "            \"role\": \"user\",\n",
    "            \"content\": [\n",
    "                {\"type\": \"text\", \"text\": \"请解释这张图片\"},\n",
    "                {\"type\": \"image_url\", \"image_url\": {\"url\": \"https://img.iplaysoft.com/wp-content/uploads/2019/free-images/free_stock_photo.jpg\"}}\n",
    "            ]\n",
    "        }\n",
    "    ],\n",
    "    stream=False    \n",
    ")\n",
    "\n",
    "print(\"模型回复：\", response.choices[0].message.content)\n"
   ]
  },
  {
   "cell_type": "code",
   "execution_count": null,
   "id": "01948899",
   "metadata": {},
   "outputs": [],
   "source": [
    "# 讯飞免费模型\n",
    "from openai import OpenAI\n",
    "client = OpenAI(\n",
    "        api_key=\"dc4846b5f53145028b3d6c0784b1e04d.EY7MtneUU8aRlcbk\",\n",
    "        base_url = 'https://open.bigmodel.cn/api/paas/v4' \n",
    "    )\n",
    "response = client.images.generate(\n",
    "    model=\"Cogview-3-Flash\",\n",
    "    prompt=\"a cat playing piano in a futuristic city\",\n",
    "    size=\"512x512\"\n",
    ")\n"
   ]
  },
  {
   "cell_type": "code",
   "execution_count": null,
   "id": "1a3736c1",
   "metadata": {},
   "outputs": [],
   "source": [
    "from openai import OpenAI\n",
    "\n",
    "client = OpenAI(\n",
    "    api_key=\"dc4846b5f53145028b3d6c0784b1e04d.EY7MtneUU8aRlcbk\",\n",
    "    base_url=\"https://open.bigmodel.cn/api/paas/v4\"\n",
    ")\n",
    "\n",
    "response = client.videos.generate(\n",
    "    model=\"CogVideoX-Flash\",  # 例如： \"video-gen-1.0\"（示例）\n",
    "    prompt=\"比如：a cat playing piano in a futuristic city\",\n",
    "    size=\"720p\",  # 分辨率参数根据平台说明填写\n",
    "    length=10,    # 视频时长（秒）\n",
    "    fps=30       # 帧率\n",
    ")\n",
    "\n",
    "print(response)\n"
   ]
  },
  {
   "cell_type": "code",
   "execution_count": null,
   "id": "2f96d38f",
   "metadata": {},
   "outputs": [],
   "source": [
    "from zai import ZhipuAiClient\n",
    "client = ZhipuAiClient(api_key=\"dc4846b5f53145028b3d6c0784b1e04d.EY7MtneUU8aRlcbk\")\n",
    "\n",
    "# Generate video\n",
    "response = client.videos.generations(\n",
    "    model=\"CogVideoX-Flash\",\n",
    "    prompt=\"A cat is playing with a ball.\",\n",
    "    quality=\"quality\",  # Output mode, \"quality\" for quality priority, \"speed\" for speed priority\n",
    "    with_audio=True, # Whether to include audio\n",
    "    size=\"1920x1080\",  # Video resolution, supports up to 4K (e.g., \"3840x2160\")\n",
    "    fps=30,  # Frame rate, can be 30 or 60\n",
    ")\n",
    "print(response)\n",
    "\n",
    "# Get video result\n",
    "result = client.videos.retrieve_videos_result(id=response.id)\n",
    "print(result)"
   ]
  },
  {
   "cell_type": "code",
   "execution_count": null,
   "id": "beaaefbd",
   "metadata": {},
   "outputs": [],
   "source": [
    "# Get video result\n",
    "result = client.videos.retrieve_videos_result(id=response.id)\n",
    "print(result)"
   ]
  },
  {
   "cell_type": "code",
   "execution_count": null,
   "id": "98d29441",
   "metadata": {},
   "outputs": [],
   "source": [
    "import time\n",
    "from openai import OpenAI\n",
    "\n",
    "# 配置 GLM 的 OpenAI 兼容客户端\n",
    "client = OpenAI(\n",
    "    api_key=\"dc4846b5f53145028b3d6c0784b1e04d.EY7MtneUU8aRlcbk\",\n",
    "    base_url=\"https://open.bigmodel.cn/api/paas/v4\"\n",
    ")\n",
    "\n",
    "# 创建视频生成任务\n",
    "try:\n",
    "    response = client.video.generations.create(\n",
    "        model=\"cogvideox-3\",  # 替换为 GLM 实际支持的视频生成模型名称\n",
    "        prompt=\"A cat playing piano in a jazz bar, vibrant colors, cinematic lighting\",\n",
    "        width=480,\n",
    "        height=480,\n",
    "        duration=5  # 视频时长（秒）\n",
    "    )\n",
    "    job_id = response.id\n",
    "    print(f\"Video generation job created: {job_id}\")\n",
    "\n",
    "    # 轮询任务状态\n",
    "    while True:\n",
    "        status_response = client.video.generations.get(job_id=job_id)\n",
    "        status = status_response.status\n",
    "        print(f\"Job status: {status}\")\n",
    "\n",
    "        if status in (\"succeeded\", \"failed\", \"canceled\"):\n",
    "            if status == \"succeeded\":\n",
    "                print(f\"Video generated successfully: {status_response.result_url}\")\n",
    "            else:\n",
    "                print(f\"Job {status}: {status_response.error_message or 'No error details'}\")\n",
    "            break\n",
    "        time.sleep(5)  # 每 5 秒轮询一次\n",
    "\n",
    "except Exception as e:\n",
    "    print(f\"Error: {str(e)}\")"
   ]
  }
 ],
 "metadata": {
  "kernelspec": {
   "display_name": "llmbroker",
   "language": "python",
   "name": "python3"
  },
  "language_info": {
   "codemirror_mode": {
    "name": "ipython",
    "version": 3
   },
   "file_extension": ".py",
   "mimetype": "text/x-python",
   "name": "python",
   "nbconvert_exporter": "python",
   "pygments_lexer": "ipython3",
   "version": "3.10.18"
  }
 },
 "nbformat": 4,
 "nbformat_minor": 5
}
