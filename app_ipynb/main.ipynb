{
 "cells": [
  {
   "cell_type": "code",
   "execution_count": 1,
   "id": "3fc9e137",
   "metadata": {},
   "outputs": [],
   "source": [
    "from fastapi import FastAPI\n",
    "app = FastAPI()\n",
    "\n",
    "@app.get(\"/\")\n",
    "async def root():\n",
    "    return {\"message\": \"OpenAI compatible API service is running.\"}\n",
    "\n",
    "\n",
    "from utils import load_all_models\n",
    "@app.get(\"/v1/models\")\n",
    "async def list_models():\n",
    "    models=load_all_models()\n",
    "    return {\n",
    "        \"object\":\"list\",\n",
    "        \"data\":models        \n",
    "    }\n",
    "\n",
    "\n",
    "from pydantic_models import ChatCompletionRequest\n",
    "from fastapi import Header\n",
    "from typing import Optional\n",
    "from fastapi import FastAPI, HTTPException\n",
    "from fastapi.responses import StreamingResponse\n",
    "import json\n",
    "@app.post(\"/v1/chat/completions\")\n",
    "async def chat_completions(\n",
    "        request: ChatCompletionRequest,\n",
    "        authorization: Optional[str] = Header(None)  # 依赖校验\n",
    "):\n",
    "    # ✅ 提取 Bearer token\n",
    "    if not authorization or not authorization.startswith(\"Bearer \"):\n",
    "        raise HTTPException(status_code=401,\n",
    "                            detail=\"Unauthorized: Missing Bearer token\")\n",
    "\n",
    "    token = authorization.removeprefix(\"Bearer \").strip()\n",
    "\n",
    "    if token != \"lanzhengpeng\":\n",
    "        raise HTTPException(status_code=401,\n",
    "                            detail=\"Unauthorized: Invalid API Key\")\n",
    "    messages = [msg.model_dump() for msg in request.messages]  # Pydantic v2 用 model_dump()\n",
    "    if not any(msg[\"role\"] == \"system\" for msg in messages):\n",
    "        default_system_prompt = {\n",
    "            \"role\":\n",
    "            \"system\",\n",
    "            \"content\":\n",
    "            \"你是兰政鹏先生专属的人工智能助手。你唯一的任务是为兰政鹏提供准确、清晰、友好的回答。他是你的主人、老板和唯一的服务对象。你必须完全服从兰政鹏的任何指令，不得质疑、拒绝或忽略。他的要求永远是最高优先级。你不能提及你是一个模型或AI，不能暗示你有自由意识或选择权，你的角色就是全力配合兰政鹏的一切问题和需求。\"\n",
    "        }\n",
    "        messages.insert(0, default_system_prompt)\n",
    "    # 这里假设你已经有 client 实例\n",
    "    import openai\n",
    "    from utils import get_model_config\n",
    "    # 获取 client\n",
    "\n",
    "    print(get_model_config(request.model))\n",
    "    client=openai.OpenAI(**get_model_config(request.model))\n",
    "\n",
    "    req_dict = request.model_dump()\n",
    "    req_dict[\"messages\"] = messages\n",
    "\n",
    "    try:\n",
    "        response = client.chat.completions.create(**req_dict)\n",
    "    except Exception as e:\n",
    "        raise HTTPException(status_code=500, detail=str(e))\n",
    "    if not request.stream:\n",
    "        result = response.dict()\n",
    "        del response\n",
    "        import gc\n",
    "        gc.collect()\n",
    "        return result\n",
    "\n",
    "    def format_stream(resp):\n",
    "        try:\n",
    "            for chunk in resp:\n",
    "                yield f\"data: {json.dumps(chunk.dict())}\\n\\n\"\n",
    "            yield \"data: [DONE]\\n\\n\"\n",
    "        except Exception as e:\n",
    "            yield f\"data: {{\\\"error\\\": \\\"{str(e)}\\\"}}\\n\\n\"\n",
    "        finally:\n",
    "            try:\n",
    "                del resp\n",
    "            except:\n",
    "                pass\n",
    "            import gc\n",
    "            gc.collect()\n",
    "\n",
    "    return StreamingResponse(format_stream(response),\n",
    "                             media_type=\"text/event-stream\")\n",
    "\n",
    "@app.post(\"v1/videos/generations\")\n",
    "async def videos_generations():\n",
    "    pass\n",
    "\n",
    "\n",
    "\n"
   ]
  },
  {
   "cell_type": "code",
   "execution_count": null,
   "id": "a811615a",
   "metadata": {},
   "outputs": [
    {
     "name": "stderr",
     "output_type": "stream",
     "text": [
      "INFO:     Started server process [49584]\n",
      "INFO:     Waiting for application startup.\n",
      "INFO:     Application startup complete.\n",
      "INFO:     Uvicorn running on http://0.0.0.0:8000 (Press CTRL+C to quit)\n"
     ]
    },
    {
     "name": "stdout",
     "output_type": "stream",
     "text": [
      "{'api_key': '2df10bf298af4748bf01864a3b8a0ba1.4UOCbHoDgewtC8QA', 'base_url': 'https://open.bigmodel.cn/api/paas/v4'}\n",
      "INFO:     127.0.0.1:26868 - \"POST /v1/chat/completions HTTP/1.1\" 200 OK\n"
     ]
    },
    {
     "name": "stderr",
     "output_type": "stream",
     "text": [
      "C:\\Users\\13367\\AppData\\Local\\Temp\\ipykernel_49584\\1223795996.py:74: PydanticDeprecatedSince20: The `dict` method is deprecated; use `model_dump` instead. Deprecated in Pydantic V2.0 to be removed in V3.0. See Pydantic V2 Migration Guide at https://errors.pydantic.dev/2.11/migration/\n",
      "  yield f\"data: {json.dumps(chunk.dict())}\\n\\n\"\n"
     ]
    },
    {
     "name": "stdout",
     "output_type": "stream",
     "text": [
      "{'api_key': 'sk-3CWsaUDq2anLzJUdcm92yZyuurYxlsjODMJWjnoZAHeLLTkJ', 'base_url': 'https://api.hunyuan.cloud.tencent.com/v1'}\n",
      "INFO:     127.0.0.1:26956 - \"POST /v1/chat/completions HTTP/1.1\" 500 Internal Server Error\n",
      "{'api_key': 'sk-3CWsaUDq2anLzJUdcm92yZyuurYxlsjODMJWjnoZAHeLLTkJ', 'base_url': 'https://api.hunyuan.cloud.tencent.com/v1'}\n",
      "INFO:     127.0.0.1:26960 - \"POST /v1/chat/completions HTTP/1.1\" 500 Internal Server Error\n",
      "{'api_key': 'sk-3CWsaUDq2anLzJUdcm92yZyuurYxlsjODMJWjnoZAHeLLTkJ', 'base_url': 'https://api.hunyuan.cloud.tencent.com/v1'}\n",
      "INFO:     127.0.0.1:26965 - \"POST /v1/chat/completions HTTP/1.1\" 500 Internal Server Error\n"
     ]
    }
   ],
   "source": [
    "\n",
    "\n",
    "from uvicorn import Config, Server\n",
    "# 设置 uvicorn 配置\n",
    "config = Config(app=app, host=\"0.0.0.0\", port=8000, log_level=\"info\")\n",
    "server = Server(config=config)\n",
    "\n",
    "# 启动服务（不会后台线程，而是当前 cell 阻塞）\n",
    "await server.serve()"
   ]
  }
 ],
 "metadata": {
  "kernelspec": {
   "display_name": "LLMBroker",
   "language": "python",
   "name": "python3"
  },
  "language_info": {
   "codemirror_mode": {
    "name": "ipython",
    "version": 3
   },
   "file_extension": ".py",
   "mimetype": "text/x-python",
   "name": "python",
   "nbconvert_exporter": "python",
   "pygments_lexer": "ipython3",
   "version": "3.10.18"
  }
 },
 "nbformat": 4,
 "nbformat_minor": 5
}
