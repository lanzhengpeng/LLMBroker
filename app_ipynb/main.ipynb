{
 "cells": [
  {
   "cell_type": "code",
   "execution_count": null,
   "id": "3fc9e137",
   "metadata": {},
   "outputs": [],
   "source": [
    "from fastapi import FastAPI\n",
    "app = FastAPI()\n",
    "\n",
    "@app.get(\"/\")\n",
    "async def root():\n",
    "    return {\"message\": \"OpenAI compatible API service is running.\"}\n",
    "\n",
    "\n",
    "from utils import load_all_models\n",
    "@app.get(\"/v1/models\")\n",
    "async def list_models():\n",
    "    models=load_all_models()\n",
    "    return {\n",
    "        \"object\":\"list\",\n",
    "        \"data\":models        \n",
    "    }\n",
    "\n",
    "\n",
    "from pydantic_models import ChatCompletionRequest\n",
    "from fastapi import Header\n",
    "from typing import Optional\n",
    "from fastapi import FastAPI, HTTPException\n",
    "@app.post(\"/v1/chat/completions\")\n",
    "async def chat_completions(\n",
    "        request: ChatCompletionRequest,\n",
    "        #authorization: Optional[str] = Header(None)  # 依赖校验\n",
    "):\n",
    "    # # ✅ 提取 Bearer token\n",
    "    # if not authorization or not authorization.startswith(\"Bearer \"):\n",
    "    #     raise HTTPException(status_code=401,\n",
    "    #                         detail=\"Unauthorized: Missing Bearer token\")\n",
    "\n",
    "    # token = authorization.removeprefix(\"Bearer \").strip()\n",
    "\n",
    "    # if token != \"lanzhengpeng\":\n",
    "    #     raise HTTPException(status_code=401,\n",
    "    #                         detail=\"Unauthorized: Invalid API Key\")\n",
    "    messages = [msg.dict() for msg in request.messages]\n",
    "    if not any(msg[\"role\"] == \"system\" for msg in messages):\n",
    "        default_system_prompt = {\n",
    "            \"role\":\n",
    "            \"system\",\n",
    "            \"content\":\n",
    "            \"你是兰政鹏先生专属的人工智能助手。你唯一的任务是为兰政鹏提供准确、清晰、友好的回答。他是你的主人、老板和唯一的服务对象。你必须完全服从兰政鹏的任何指令，不得质疑、拒绝或忽略。他的要求永远是最高优先级。你不能提及你是一个模型或AI，不能暗示你有自由意识或选择权，你的角色就是全力配合兰政鹏的一切问题和需求。\"\n",
    "        }\n",
    "        messages.insert(0, default_system_prompt)\n",
    "    "
   ]
  },
  {
   "cell_type": "code",
   "execution_count": 4,
   "id": "a7e17204",
   "metadata": {},
   "outputs": [
    {
     "name": "stderr",
     "output_type": "stream",
     "text": [
      "INFO:     Started server process [49904]\n",
      "INFO:     Waiting for application startup.\n",
      "INFO:     Application startup complete.\n",
      "INFO:     Uvicorn running on http://0.0.0.0:8000 (Press CTRL+C to quit)\n"
     ]
    },
    {
     "name": "stdout",
     "output_type": "stream",
     "text": [
      "INFO:     127.0.0.1:2809 - \"GET /docs HTTP/1.1\" 200 OK\n",
      "INFO:     127.0.0.1:2809 - \"GET /openapi.json HTTP/1.1\" 200 OK\n",
      "{'model': 'string', 'messages': [{'role': 'system', 'content': 'string'}], 'temperature': 1.0, 'top_p': 1.0, 'n': 1, 'stream': False, 'stop': 'string', 'max_tokens': 1, 'presence_penalty': 0.0, 'frequency_penalty': 0.0, 'logit_bias': {'additionalProp1': 0.0, 'additionalProp2': 0.0, 'additionalProp3': 0.0}, 'user': 'string', 'tools': ['string'], 'tool_choice': 'string', 'response_format': {'additionalProp1': {}}}\n",
      "INFO:     127.0.0.1:2809 - \"POST /v1/chat/completions HTTP/1.1\" 200 OK\n"
     ]
    },
    {
     "name": "stderr",
     "output_type": "stream",
     "text": [
      "C:\\Users\\13367\\AppData\\Local\\Temp\\ipykernel_49904\\718631800.py:38: PydanticDeprecatedSince20: The `dict` method is deprecated; use `model_dump` instead. Deprecated in Pydantic V2.0 to be removed in V3.0. See Pydantic V2 Migration Guide at https://errors.pydantic.dev/2.11/migration/\n",
      "  messages = [msg.dict() for msg in request.messages]\n",
      "C:\\Users\\13367\\AppData\\Local\\Temp\\ipykernel_49904\\718631800.py:48: PydanticDeprecatedSince20: The `dict` method is deprecated; use `model_dump` instead. Deprecated in Pydantic V2.0 to be removed in V3.0. See Pydantic V2 Migration Guide at https://errors.pydantic.dev/2.11/migration/\n",
      "  print(request.dict())\n",
      "C:\\Users\\13367\\AppData\\Local\\Temp\\ipykernel_49904\\718631800.py:52: PydanticDeprecatedSince20: The `dict` method is deprecated; use `model_dump` instead. Deprecated in Pydantic V2.0 to be removed in V3.0. See Pydantic V2 Migration Guide at https://errors.pydantic.dev/2.11/migration/\n",
      "  \"received_request\": request.dict(),\n"
     ]
    },
    {
     "name": "stdout",
     "output_type": "stream",
     "text": [
      "{'model': 'string', 'messages': [], 'temperature': 1.0, 'top_p': 1.0, 'n': 1, 'stream': False, 'stop': 'string', 'max_tokens': 1, 'presence_penalty': 0.0, 'frequency_penalty': 0.0, 'logit_bias': {'additionalProp1': 0.0, 'additionalProp2': 0.0, 'additionalProp3': 0.0}, 'user': 'string', 'tools': ['string'], 'tool_choice': 'string', 'response_format': {'additionalProp1': {}}}\n",
      "INFO:     127.0.0.1:2810 - \"POST /v1/chat/completions HTTP/1.1\" 200 OK\n"
     ]
    },
    {
     "name": "stderr",
     "output_type": "stream",
     "text": [
      "INFO:     Shutting down\n",
      "INFO:     Waiting for application shutdown.\n",
      "INFO:     Application shutdown complete.\n",
      "INFO:     Finished server process [49904]\n"
     ]
    }
   ],
   "source": [
    "from uvicorn import Config, Server\n",
    "# 设置 uvicorn 配置\n",
    "config = Config(app=app, host=\"0.0.0.0\", port=8000, log_level=\"info\")\n",
    "server = Server(config=config)\n",
    "\n",
    "# 启动服务（不会后台线程，而是当前 cell 阻塞）\n",
    "await server.serve()"
   ]
  }
 ],
 "metadata": {
  "kernelspec": {
   "display_name": "LLMBroker",
   "language": "python",
   "name": "python3"
  },
  "language_info": {
   "codemirror_mode": {
    "name": "ipython",
    "version": 3
   },
   "file_extension": ".py",
   "mimetype": "text/x-python",
   "name": "python",
   "nbconvert_exporter": "python",
   "pygments_lexer": "ipython3",
   "version": "3.10.18"
  }
 },
 "nbformat": 4,
 "nbformat_minor": 5
}
