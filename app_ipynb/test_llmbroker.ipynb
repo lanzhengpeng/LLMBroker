{
 "cells": [
  {
   "cell_type": "code",
   "execution_count": null,
   "id": "abfd3cee",
   "metadata": {},
   "outputs": [],
   "source": [
    "from utils import get_model_config\n",
    "print(get_model_config(\"ernie-tiny-8k\"))"
   ]
  },
  {
   "cell_type": "code",
   "execution_count": null,
   "id": "d04205de",
   "metadata": {},
   "outputs": [],
   "source": [
    "from json_utils import load_json_file\n",
    "\n",
    "config = load_json_file(\"../models/model_name.json\")\n",
    "print(config)\n",
    "print(config.get(\"baidu\").get(\"ERNIE-Speed-128K\"))"
   ]
  },
  {
   "cell_type": "code",
   "execution_count": 1,
   "id": "9c87e99a",
   "metadata": {},
   "outputs": [
    {
     "name": "stdout",
     "output_type": "stream",
     "text": [
      "模型回复： 作为兰政鹏先生的专属人工智能助手，我可以协助处理各种任务并提供准确、清晰、友好的回答。\n"
     ]
    }
   ],
   "source": [
    "import openai\n",
    "client = openai.OpenAI(\n",
    "    base_url=\"http://127.0.0.1:8000/v1\",  # 你的本地服务地址\n",
    "    api_key=\"lanzhengpeng\",  # 如果没有鉴权，就传空字符串\n",
    ")\n",
    "\n",
    "response = client.chat.completions.create(\n",
    "    model=\"ernie-tiny-8k\",\n",
    "    messages=[{\n",
    "        \"role\": \"user\",\n",
    "        \"content\": \"你可以做什么\"\n",
    "    }\n",
    "              ],\n",
    "    stream=False\n",
    ")\n",
    "\n",
    "print(\"模型回复：\", response.choices[0].message.content)\n"
   ]
  },
  {
   "cell_type": "code",
   "execution_count": null,
   "id": "b9df96df",
   "metadata": {},
   "outputs": [],
   "source": [
    "import openai\n",
    "client = openai.OpenAI(\n",
    "    base_url=\"http://127.0.0.1:8000/v1\",  # 你的本地服务地址\n",
    "    api_key=\"lanzhengpeng\",  # 如果没有鉴权，就传空字符串\n",
    ")\n",
    "\n",
    "stream = client.chat.completions.create(\n",
    "    model=\"GLM-4.5-Flash\",\n",
    "    messages=[{\n",
    "        \"role\": \"user\",\n",
    "        \"content\": \"你可以做什么\"\n",
    "    }\n",
    "              ],\n",
    "    stream=True)\n",
    "\n",
    "\n",
    "for chunk in stream:\n",
    "    if chunk.choices and chunk.choices[0].delta.content:\n",
    "        print(chunk.choices[0].delta.content, end=\"\", flush=True)\n"
   ]
  },
  {
   "cell_type": "code",
   "execution_count": null,
   "id": "40c2c698",
   "metadata": {},
   "outputs": [],
   "source": [
    "import openai\n",
    "client = openai.OpenAI(\n",
    "    base_url=\"http://127.0.0.1:8000/v1\",  # 你的本地服务地址\n",
    "    api_key=\"lanzhengpeng\",  # 如果没有鉴权，就传空字符串\n",
    ")\n",
    "\n",
    "response = client.chat.completions.create(\n",
    "    model=\"GLM-4.1V-Thinking-Flash\",\n",
    "    messages=[\n",
    "        {\n",
    "            \"role\": \"user\",\n",
    "            \"content\": [\n",
    "                {\"type\": \"text\", \"text\": \"请解释这张图片\"},\n",
    "                {\"type\": \"image_url\", \"image_url\": {\"url\": \"https://img.iplaysoft.com/wp-content/uploads/2019/free-images/free_stock_photo.jpg\"}}\n",
    "            ]\n",
    "        }\n",
    "    ],\n",
    "    stream=False    \n",
    ")\n",
    "\n",
    "print(\"模型回复：\", response.choices[0].message.content)\n"
   ]
  }
 ],
 "metadata": {
  "kernelspec": {
   "display_name": "llmbroker",
   "language": "python",
   "name": "python3"
  },
  "language_info": {
   "codemirror_mode": {
    "name": "ipython",
    "version": 3
   },
   "file_extension": ".py",
   "mimetype": "text/x-python",
   "name": "python",
   "nbconvert_exporter": "python",
   "pygments_lexer": "ipython3",
   "version": "3.10.18"
  }
 },
 "nbformat": 4,
 "nbformat_minor": 5
}
