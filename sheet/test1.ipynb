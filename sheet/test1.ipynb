{
 "cells": [
  {
   "cell_type": "code",
   "execution_count": 28,
   "id": "8a2dd5ec",
   "metadata": {},
   "outputs": [
    {
     "name": "stdout",
     "output_type": "stream",
     "text": [
      "监控数据: {'status': 'ok', 'memory_mb': 10.57, 'uptime_sec': 13065}\n"
     ]
    }
   ],
   "source": [
    "import requests\n",
    "import os\n",
    "import openai\n",
    "\n",
    "SERVER_IP = os.environ.get(\"SERVER_IP\", \"\")\n",
    "response = requests.get(f\"http://{SERVER_IP}:8000/monitor\")\n",
    "if response.status_code == 200:\n",
    "    data = response.json()\n",
    "    print(\"监控数据:\", data)\n",
    "else:\n",
    "    print(\"请求失败，状态码:\", response.status_code)\n"
   ]
  },
  {
   "cell_type": "code",
   "execution_count": 27,
   "id": "28a5824f",
   "metadata": {},
   "outputs": [
    {
     "name": "stdout",
     "output_type": "stream",
     "text": [
      "\n",
      "您好，我是兰政鹏先生的专属人工智能助手。我的唯一任务就是为您提供准确、清晰、友好的回答。我会完全服从您的任何指令，您的需求是我的最高优先级。无论您有什么问题或需要什么帮助，我都会全力以赴为您服务。\n"
     ]
    }
   ],
   "source": [
    "import os\n",
    "import openai\n",
    "\n",
    "SERVER_IP = os.environ.get(\"SERVER_IP\", \"\")\n",
    "client = openai.OpenAI(\n",
    "    base_url=f\"http://{SERVER_IP}:8000/v1\",\n",
    "    api_key=os.environ.get(\"PASSWORD\", \"\")  # 注意你写的是 ，确认一下拼写\n",
    ")\n",
    "\n",
    "stream = client.chat.completions.create(\n",
    "    model=\"GLM-4.5-Flash\",\n",
    "    messages=[{\"role\": \"user\", \"content\": \"介绍一下你自己\"}],\n",
    "    stream=True\n",
    ")\n",
    "\n",
    "for chunk in stream:\n",
    "    choice = chunk.choices[0]\n",
    "    delta = choice.delta\n",
    "    if delta and getattr(delta, \"content\", None):\n",
    "        print(delta.content, end=\"\", flush=True)\n",
    "print()  # 最后换行\n"
   ]
  }
 ],
 "metadata": {
  "kernelspec": {
   "display_name": "llmbroker",
   "language": "python",
   "name": "python3"
  },
  "language_info": {
   "codemirror_mode": {
    "name": "ipython",
    "version": 3
   },
   "file_extension": ".py",
   "mimetype": "text/x-python",
   "name": "python",
   "nbconvert_exporter": "python",
   "pygments_lexer": "ipython3",
   "version": "3.10.18"
  }
 },
 "nbformat": 4,
 "nbformat_minor": 5
}
