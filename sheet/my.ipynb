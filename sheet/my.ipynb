{
 "cells": [
  {
   "cell_type": "code",
   "execution_count": null,
   "id": "17d0546c",
   "metadata": {},
   "outputs": [
    {
     "name": "stdout",
     "output_type": "stream",
     "text": [
      "✅ 厂商表已初始化完成！\n"
     ]
    }
   ],
   "source": [
    "import sqlite3\n",
    "\n",
    "DB_PATH = r\"D:\\lanzhengpeng\\LLMBroker\\config.db\"  # 你的 SQLite 数据库文件路径\n",
    "\n",
    "# 厂商数据\n",
    "providers = [\n",
    "    (\"zhipu\", \"智谱AI\"),\n",
    "    (\"xunfei\", \"讯飞星火\"),\n",
    "    (\"baidu\", \"百度文心\"),\n",
    "    (\"google\", \"谷歌 Gemini\"),\n",
    "    (\"tenxun\", \"腾讯混元\")\n",
    "]\n",
    "\n",
    "# 连接数据库\n",
    "conn = sqlite3.connect(DB_PATH)\n",
    "cursor = conn.cursor()\n",
    "\n",
    "# 插入厂商数据（去重插入）\n",
    "for name, display_name in providers:\n",
    "    cursor.execute(\n",
    "        \"INSERT OR IGNORE INTO model_providers (name, display_name) VALUES (?, ?)\",\n",
    "        (name, display_name)\n",
    "    )\n",
    "\n",
    "conn.commit()\n",
    "conn.close()\n",
    "\n",
    "print(\"✅ 厂商表已初始化完成！\")\n"
   ]
  },
  {
   "cell_type": "code",
   "execution_count": 5,
   "id": "cafdaa36",
   "metadata": {},
   "outputs": [
    {
     "name": "stdout",
     "output_type": "stream",
     "text": [
      "数据库表： [('model_providers',), ('sqlite_sequence',), ('models',), ('model_apis',)]\n"
     ]
    }
   ],
   "source": [
    "import sqlite3\n",
    "\n",
    "DB_PATH = r\"D:\\lanzhengpeng\\LLMBroker\\config.db\"\n",
    "\n",
    "conn = sqlite3.connect(DB_PATH)\n",
    "cursor = conn.cursor()\n",
    "\n",
    "cursor.execute(\"SELECT name FROM sqlite_master WHERE type='table'\")\n",
    "print(\"数据库表：\", cursor.fetchall())\n",
    "\n",
    "conn.close()\n"
   ]
  },
  {
   "cell_type": "code",
   "execution_count": 9,
   "id": "fe6fe6b3",
   "metadata": {},
   "outputs": [
    {
     "name": "stdout",
     "output_type": "stream",
     "text": [
      "模型数据插入完成！\n"
     ]
    }
   ],
   "source": [
    "import json\n",
    "import sqlite3\n",
    "\n",
    "DB_PATH = r\"D:\\lanzhengpeng\\LLMBroker\\config.db\"\n",
    "JSON_PATH = r\"../models/model_name.json\"  # 你存模型配置的json文件路径\n",
    "\n",
    "# 读取json文件\n",
    "with open(JSON_PATH, 'r', encoding='utf-8') as f:\n",
    "    model_config = json.load(f)\n",
    "\n",
    "conn = sqlite3.connect(DB_PATH)\n",
    "cursor = conn.cursor()\n",
    "\n",
    "for provider_name, models in model_config.items():\n",
    "    cursor.execute(\"SELECT id FROM model_providers WHERE name = ?\", (provider_name,))\n",
    "    row = cursor.fetchone()\n",
    "    if not row:\n",
    "        print(f\"厂商 {provider_name} 不存在，跳过\")\n",
    "        continue\n",
    "    provider_id = row[0]\n",
    "\n",
    "    for model_key, model_id in models.items():\n",
    "        cursor.execute(\"\"\"\n",
    "            INSERT OR IGNORE INTO models (provider_id, model_name, model_id)\n",
    "            VALUES (?, ?, ?)\n",
    "            \"\"\", (provider_id, model_key, model_id))\n",
    "\n",
    "\n",
    "conn.commit()\n",
    "conn.close()\n",
    "\n",
    "print(\"模型数据插入完成！\")\n"
   ]
  },
  {
   "cell_type": "code",
   "execution_count": 14,
   "id": "67b30162",
   "metadata": {},
   "outputs": [
    {
     "name": "stdout",
     "output_type": "stream",
     "text": [
      "模型描述和创建时间更新完成！\n"
     ]
    }
   ],
   "source": [
    "import json\n",
    "import sqlite3\n",
    "\n",
    "DB_PATH = r\"D:\\lanzhengpeng\\LLMBroker\\config.db\"\n",
    "DETAILS_JSON_PATH = r\"../models/zhipu.json\"  # 详细信息的json路径\n",
    "\n",
    "# 读取详细信息 JSON\n",
    "with open(DETAILS_JSON_PATH, 'r', encoding='utf-8') as f:\n",
    "    model_details_list = json.load(f)\n",
    "\n",
    "# 建一个字典，key 是 model_id，方便快速查找\n",
    "model_details_dict = {item['id']: item for item in model_details_list}\n",
    "\n",
    "conn = sqlite3.connect(DB_PATH)\n",
    "cursor = conn.cursor()\n",
    "\n",
    "for model_id, detail in model_details_dict.items():\n",
    "    description = detail.get('description')\n",
    "    created = detail.get('created')\n",
    "\n",
    "    # 更新 models 表中对应 model_id 的 description 和 created\n",
    "    cursor.execute(\"\"\"\n",
    "        UPDATE models\n",
    "        SET description = ?, created = ?\n",
    "        WHERE model_id = ?\n",
    "    \"\"\", (description, created, model_id))\n",
    "\n",
    "conn.commit()\n",
    "conn.close()\n",
    "\n",
    "print(\"模型描述和创建时间更新完成！\")\n"
   ]
  },
  {
   "cell_type": "code",
   "execution_count": 16,
   "id": "fd38fa5b",
   "metadata": {},
   "outputs": [
    {
     "name": "stdout",
     "output_type": "stream",
     "text": [
      "API 配置插入完成！\n"
     ]
    }
   ],
   "source": [
    "import json\n",
    "import sqlite3\n",
    "\n",
    "DB_PATH = r\"D:\\lanzhengpeng\\LLMBroker\\config.db\"\n",
    "API_CONFIG_PATH = r\"../models/model_config.json\"  # 你的API配置JSON文件路径\n",
    "\n",
    "with open(API_CONFIG_PATH, 'r', encoding='utf-8') as f:\n",
    "    api_config = json.load(f)\n",
    "\n",
    "conn = sqlite3.connect(DB_PATH)\n",
    "cursor = conn.cursor()\n",
    "\n",
    "for provider_name, models in api_config.items():\n",
    "    # 查询厂商id\n",
    "    cursor.execute(\"SELECT id FROM model_providers WHERE name = ?\", (provider_name,))\n",
    "    row = cursor.fetchone()\n",
    "    if not row:\n",
    "        print(f\"厂商 {provider_name} 不存在，跳过\")\n",
    "        continue\n",
    "    provider_id = row[0]\n",
    "\n",
    "    for model_name, api_info in models.items():\n",
    "        # 查询模型id\n",
    "        cursor.execute(\n",
    "            \"SELECT id FROM models WHERE provider_id = ? AND model_name = ?\", \n",
    "            (provider_id, model_name)\n",
    "        )\n",
    "        model_row = cursor.fetchone()\n",
    "        if not model_row:\n",
    "            print(f\"模型 {model_name} 不存在，跳过\")\n",
    "            continue\n",
    "        model_pk_id = model_row[0]\n",
    "\n",
    "        base_url = api_info.get(\"base_url\")\n",
    "        api_key = api_info.get(\"api_key\")\n",
    "\n",
    "        cursor.execute(\"\"\"\n",
    "            INSERT INTO model_apis (model_id, base_url, api_key)\n",
    "            VALUES (?, ?, ?)\n",
    "        \"\"\", (model_pk_id, base_url, api_key))\n",
    "\n",
    "conn.commit()\n",
    "conn.close()\n",
    "\n",
    "print(\"API 配置插入完成！\")\n"
   ]
  }
 ],
 "metadata": {
  "kernelspec": {
   "display_name": "llmbroker",
   "language": "python",
   "name": "python3"
  },
  "language_info": {
   "codemirror_mode": {
    "name": "ipython",
    "version": 3
   },
   "file_extension": ".py",
   "mimetype": "text/x-python",
   "name": "python",
   "nbconvert_exporter": "python",
   "pygments_lexer": "ipython3",
   "version": "3.10.18"
  }
 },
 "nbformat": 4,
 "nbformat_minor": 5
}
