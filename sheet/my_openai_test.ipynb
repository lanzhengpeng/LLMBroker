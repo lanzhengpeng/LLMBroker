{
 "cells": [
  {
   "cell_type": "code",
   "execution_count": null,
   "id": "4d5ad3f2",
   "metadata": {},
   "outputs": [],
   "source": [
    "from zai import ZhipuAiClient\n",
    "\n",
    "# Initialize client\n",
    "client = ZhipuAiClient(api_key=\"your-api-key\")\n",
    "\n",
    "# 图像生成\n",
    "response = client.images.generations(\n",
    "    model=\"cogview-3\",\n",
    "    prompt=\"一幅美丽的山水画，中国传统风格，水墨画\",\n",
    "    size=\"1024x1024\",\n",
    "    quality=\"standard\",\n",
    ")\n",
    "\n",
    "image_url = response.data[0].url\n",
    "print(f\"生成的图像URL: {image_url}\")\n",
    "\n",
    "# 高质量图像生成\n",
    "response = client.images.generations(\n",
    "    model=\"cogview-3-plus\",\n",
    "    prompt=\"未来城市的概念设计，科幻风格，高清细节\",\n",
    "    size=\"1024x1024\",\n",
    "    quality=\"hd\",\n",
    ")\n",
    "\n",
    "image_url = response.data[0].url\n",
    "print(f\"生成的图像URL: {image_url}\")"
   ]
  },
  {
   "cell_type": "code",
   "execution_count": null,
   "id": "65346cc8",
   "metadata": {},
   "outputs": [],
   "source": [
    "from zai import ZhipuAiClient\n",
    "import time\n",
    "image_url= \"https://img.iplaysoft.com/wp-content/uploads/2019/free-images/free_stock_photo.jpg\"\n",
    "client = ZhipuAiClient(api_key=\"2df10bf298af4748bf01864a3b8a0ba1.4UOCbHoDgewtC8QA\")\n",
    "\n",
    "# 提交生成任务\n",
    "response = client.videos.generations(\n",
    "    model=\"CogVideoX-Flash\",  # 使用的视频生成模型\n",
    "    image_url=image_url,  # 提供的图片URL地址或者 Base64 编码\n",
    "    prompt=\"让画面动起来\",\n",
    "    quality=\"speed\",  # 输出模式，\"quality\"为质量优先，\"speed\"为速度优先\n",
    "    with_audio=True,\n",
    "    size=\"1920x1080\",  # 视频分辨率，支持最高4K（如: \"3840x2160\"）\n",
    "    fps=30,  # 帧率，可选为30或60\n",
    ")\n",
    "print(response)\n"
   ]
  },
  {
   "cell_type": "code",
   "execution_count": null,
   "id": "c3774732",
   "metadata": {},
   "outputs": [],
   "source": [
    "\n",
    "# 获取生成结果\n",
    "# time.sleep(60)  # 等待一段时间以确保视频生成完成\n",
    "result = client.videos.retrieve_videos_result(id=response.id)\n",
    "print(result)"
   ]
  },
  {
   "cell_type": "code",
   "execution_count": null,
   "id": "e76d689e",
   "metadata": {},
   "outputs": [],
   "source": [
    "# 获取生成结果\n",
    "# time.sleep(60)  # 等待一段时间以确保视频生成完成\n",
    "result = client.videos.retrieve_videos_result(id=response.id)\n",
    "print(result)"
   ]
  },
  {
   "cell_type": "code",
   "execution_count": 1,
   "id": "6688f806",
   "metadata": {},
   "outputs": [
    {
     "name": "stdout",
     "output_type": "stream",
     "text": [
      "Request URL: http://127.0.0.1:8000/v1/videos/generations\n",
      "VideoObject(id='11621754403990524-8448826635282590312', model='CogVideoX-Flash', video_result=[], task_status='PROCESSING', request_id='2025081000243382dd842f38eb4985')\n"
     ]
    }
   ],
   "source": [
    "import os\n",
    "from entension.my_openai import MyOpenAI as OpenAI\n",
    "image_url= \"https://img.iplaysoft.com/wp-content/uploads/2019/free-images/free_stock_photo.jpg\"\n",
    "SERVER_IP = os.environ.get(\"SERVER_IP\", \"\")\n",
    "client = OpenAI(\n",
    "    base_url=\"http://127.0.0.1:8000/v1\",  # 你的本地服务地址\n",
    "    api_key=\"lanzhengpeng\",  # 如果没有鉴权，就传空字符串\n",
    ")\n",
    "# stream = client.chat.completions.create(\n",
    "#     model=\"GLM-4.5-Flash\",\n",
    "#     messages=[{\"role\": \"user\", \"content\": \"介绍一下你自己\"}],\n",
    "#     stream=True\n",
    "# )\n",
    "\n",
    "# for chunk in stream:\n",
    "#     choice = chunk.choices[0]\n",
    "#     delta = choice.delta\n",
    "#     if delta and getattr(delta, \"content\", None):\n",
    "#         print(delta.content, end=\"\", flush=True)\n",
    "# print()  # 最后换行\n",
    "response = client.videos.generations(\n",
    "    model=\"CogVideoX-Flash\",  # 使用的视频生成模型\n",
    "    image_url=image_url,  # 提供的图片URL地址或者 Base64 编码\n",
    "    prompt=\"让画面动起来\",\n",
    "    quality=\"speed\",  # 输出模式，\"quality\"为质量优先，\"speed\"为速度优先\n",
    "    with_audio=True,\n",
    "    size=\"1920x1080\",  # 视频分辨率，支持最高4K（如: \"3840x2160\"）\n",
    "    fps=30,  # 帧率，可选为30或60\n",
    ")\n",
    "print(response)"
   ]
  },
  {
   "cell_type": "code",
   "execution_count": 8,
   "id": "985d959d",
   "metadata": {},
   "outputs": [
    {
     "name": "stdout",
     "output_type": "stream",
     "text": [
      "VideoObject(id=None, model=None, video_result=[], task_status=None, request_id=None)\n"
     ]
    }
   ],
   "source": [
    "result = client.videos.retrieve_videos_result(id=response.id)\n",
    "print(result)"
   ]
  },
  {
   "cell_type": "code",
   "execution_count": 9,
   "id": "eb01d8af",
   "metadata": {},
   "outputs": [
    {
     "name": "stdout",
     "output_type": "stream",
     "text": [
      "Request URL: http://8.218.206.87:8000/v1/videos/generations\n",
      "VideoObject(id='11621754403990524-8448825673209883373', model='CogVideoX-Flash', video_result=[], task_status='PROCESSING', request_id='20250810003624a61ce73a06994c37')\n"
     ]
    }
   ],
   "source": [
    "import os\n",
    "from entension.my_openai import MyOpenAI as OpenAI\n",
    "image_url= \"https://img.iplaysoft.com/wp-content/uploads/2019/free-images/free_stock_photo.jpg\"\n",
    "SERVER_IP = os.environ.get(\"SERVER_IP\", \"\")\n",
    "client = OpenAI(\n",
    "    base_url=f\"http://{SERVER_IP}:8000/v1\",\n",
    "    api_key=os.environ.get(\"PASSWORD\", \"\")  # 注意你写的是 ，确认一下拼写\n",
    ")\n",
    "# stream = client.chat.completions.create(\n",
    "#     model=\"GLM-4.5-Flash\",\n",
    "#     messages=[{\"role\": \"user\", \"content\": \"介绍一下你自己\"}],\n",
    "#     stream=True\n",
    "# )\n",
    "\n",
    "# for chunk in stream:\n",
    "#     choice = chunk.choices[0]\n",
    "#     delta = choice.delta\n",
    "#     if delta and getattr(delta, \"content\", None):\n",
    "#         print(delta.content, end=\"\", flush=True)\n",
    "# print()  # 最后换行\n",
    "# 提交生成任务\n",
    "response = client.videos.generations(\n",
    "    model=\"CogVideoX-Flash\",  # 使用的视频生成模型\n",
    "    image_url=image_url,  # 提供的图片URL地址或者 Base64 编码\n",
    "    prompt=\"让画面动起来\",\n",
    "    quality=\"speed\",  # 输出模式，\"quality\"为质量优先，\"speed\"为速度优先\n",
    "    with_audio=True,\n",
    "    size=\"1920x1080\",  # 视频分辨率，支持最高4K（如: \"3840x2160\"）\n",
    "    fps=30,  # 帧率，可选为30或60\n",
    ")\n",
    "print(response)\n"
   ]
  },
  {
   "cell_type": "code",
   "execution_count": 10,
   "id": "ea12949a",
   "metadata": {},
   "outputs": [
    {
     "name": "stdout",
     "output_type": "stream",
     "text": [
      "VideoObject(id='11621754403990524-8448825673209883373', model='CogVideoX-Flash', video_result=[], task_status='PROCESSING', request_id='20250810003624a61ce73a06994c37')\n"
     ]
    }
   ],
   "source": [
    "result = client.videos.retrieve_videos_result(id=response.id)\n",
    "print(result)"
   ]
  }
 ],
 "metadata": {
  "kernelspec": {
   "display_name": "llmbroker",
   "language": "python",
   "name": "python3"
  },
  "language_info": {
   "codemirror_mode": {
    "name": "ipython",
    "version": 3
   },
   "file_extension": ".py",
   "mimetype": "text/x-python",
   "name": "python",
   "nbconvert_exporter": "python",
   "pygments_lexer": "ipython3",
   "version": "3.10.18"
  }
 },
 "nbformat": 4,
 "nbformat_minor": 5
}
